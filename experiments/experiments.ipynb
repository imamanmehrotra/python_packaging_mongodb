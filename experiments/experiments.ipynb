{
 "cells": [
  {
   "cell_type": "code",
   "execution_count": 1,
   "metadata": {},
   "outputs": [],
   "source": [
    "from pymongo.mongo_client import MongoClient\n",
    "uri = \"mongodb+srv://aman:<password>@curiouscluster.neo9yv9.mongodb.net/?retryWrites=true&w=majority\"\n",
    "# Create a new client and connect to the server\n",
    "client = MongoClient(uri)"
   ]
  },
  {
   "cell_type": "code",
   "execution_count": 2,
   "metadata": {},
   "outputs": [],
   "source": [
    "database = client['testdb'] #creating a db"
   ]
  },
  {
   "cell_type": "code",
   "execution_count": 3,
   "metadata": {},
   "outputs": [],
   "source": [
    "collection = database[\"session\"] #Creating a table in database"
   ]
  },
  {
   "cell_type": "code",
   "execution_count": 4,
   "metadata": {},
   "outputs": [],
   "source": [
    "data = {\n",
    "\n",
    "\"CourseName\":\"GenAI\",\n",
    "\"StudentName\":\"Artik\",\n",
    "\"Instructor\":\"Sunny\",\n",
    "\"Session-Mode\":\"English Live\"\n",
    "\n",
    "}"
   ]
  },
  {
   "cell_type": "code",
   "execution_count": 6,
   "metadata": {},
   "outputs": [
    {
     "data": {
      "text/plain": [
       "<pymongo.results.InsertOneResult at 0x19bf45c2bc0>"
      ]
     },
     "execution_count": 6,
     "metadata": {},
     "output_type": "execute_result"
    }
   ],
   "source": [
    "collection.insert_one(data)"
   ]
  },
  {
   "cell_type": "code",
   "execution_count": 11,
   "metadata": {},
   "outputs": [
    {
     "name": "stdout",
     "output_type": "stream",
     "text": [
      "{'_id': ObjectId('659965cbded6765f0ccc4f6e'), 'CourseName': 'GenAI', 'StudentName': 'Artik', 'Instructor': 'Sunny', 'Session-Mode': 'English Live'}\n"
     ]
    }
   ],
   "source": [
    "all_records = collection.find()\n",
    "for record in all_records:\n",
    "    print(record)"
   ]
  },
  {
   "cell_type": "code",
   "execution_count": 12,
   "metadata": {},
   "outputs": [
    {
     "data": {
      "text/plain": [
       "<pymongo.results.InsertManyResult at 0x19bf4f8fc00>"
      ]
     },
     "execution_count": 12,
     "metadata": {},
     "output_type": "execute_result"
    }
   ],
   "source": [
    "collection.insert_many(\n",
    "[\n",
    "\n",
    "{\n",
    "\"CourseName\":\"GenAI\",\n",
    "\"StudentName\":\"Artik\",\n",
    "\"Instructor\":\"Sunny\",\n",
    "\"Session-Mode\":\"English Live\"\n",
    "},\n",
    "\n",
    "\n",
    "{\n",
    "\"CourseName\":\"MLOps\",\n",
    "\"StudentName\":\"Niti\",\n",
    "\"Instructor\":\"Bappi\",\n",
    "\"Session-Mode\":\"English Live\"\n",
    "}\n",
    "\n",
    "]\n",
    ")\n"
   ]
  },
  {
   "cell_type": "code",
   "execution_count": 13,
   "metadata": {},
   "outputs": [
    {
     "name": "stdout",
     "output_type": "stream",
     "text": [
      "{'_id': ObjectId('659965cbded6765f0ccc4f6e'), 'CourseName': 'GenAI', 'StudentName': 'Artik', 'Instructor': 'Sunny', 'Session-Mode': 'English Live'}\n",
      "{'_id': ObjectId('65996734ded6765f0ccc4f6f'), 'CourseName': 'GenAI', 'StudentName': 'Artik', 'Instructor': 'Sunny', 'Session-Mode': 'English Live'}\n",
      "{'_id': ObjectId('65996734ded6765f0ccc4f70'), 'CourseName': 'MLOps', 'StudentName': 'Niti', 'Instructor': 'Bappi', 'Session-Mode': 'English Live'}\n"
     ]
    }
   ],
   "source": [
    "ar = collection.find()\n",
    "for r in ar:\n",
    "    print(r)"
   ]
  },
  {
   "cell_type": "code",
   "execution_count": 61,
   "metadata": {},
   "outputs": [],
   "source": [
    "class mongodb_ops:\n",
    "\n",
    "    def __init__(self, client_url:str, database_name: str, collection_name: str=None):\n",
    "        self.client_url = client_url\n",
    "        self.database_name = database_name\n",
    "        self.collection_name = collection_name\n",
    "\n",
    "    def create_client(self):\n",
    "        client = MongoClient(self.client_url)\n",
    "        return client\n",
    "\n",
    "\n",
    "    def create_database(self):\n",
    "        client = self.create_client()\n",
    "        database = client[self.database_name]\n",
    "        return database\n",
    "\n",
    "\n",
    "    def create_collection(self, collection_name=None):\n",
    "        database = self.create_database()\n",
    "        collection = database[collection]\n",
    "        return collection\n",
    "\n",
    "    \n",
    "    def insert_record(self, record:dict, collection_name:str):\n",
    "        if type(record)==list:\n",
    "            for data in record:\n",
    "                if type(data)!=dict:\n",
    "                    raise TypeError(\"Record must be in dictionary\")\n",
    "            collection = self.create_collection(collection_name)\n",
    "            collection.insert_many(record)\n",
    "        elif type(record)==dict:\n",
    "            collection = self.create_collection(collection_name)\n",
    "            collection.insert_one(record)\n",
    "\n",
    "    def bulk_insert(self, datafile:str, collection_name:str=None):\n",
    "        self.path = datafile\n",
    "\n",
    "        if self.path.endswith(\".csv\"):\n",
    "            data = pd.read_csv(self.path, encoding='utf-8')\n",
    "\n",
    "        \n",
    "        elif self.path.endswith(\".xlsx\"):\n",
    "            data = pd.read_excel(self.path, encoding='utf-8')\n",
    "\n",
    "        data_json = json.loads(data.to_json(orient = 'record'))\n",
    "        collection = self.create_collection()\n",
    "        collection.insert_many(data_json)"
   ]
  },
  {
   "cell_type": "code",
   "execution_count": 57,
   "metadata": {},
   "outputs": [],
   "source": [
    "client_url = \"\"\n",
    "database = \"new_db\"\n",
    "collection_name = 'test_table'"
   ]
  },
  {
   "cell_type": "code",
   "execution_count": 58,
   "metadata": {},
   "outputs": [],
   "source": [
    "mongo = mongodb_ops(client_url=client_url, database_name=database, collection_name=collection_name)"
   ]
  },
  {
   "cell_type": "code",
   "execution_count": null,
   "metadata": {},
   "outputs": [],
   "source": []
  },
  {
   "cell_type": "code",
   "execution_count": 59,
   "metadata": {},
   "outputs": [],
   "source": [
    "mongo.insert_record({\"Name\":\"Sarthak\", \"Position\":\"Citizen Data Scientist\", \"Salary\":\"10000\"}, collection_name=collection_name)\n",
    "mongo.insert_record({\"Name\":\"Krish\", \"Position\":\"Lead Data Scientist\", \"Salary\":\"100000\"}, collection_name=collection_name)\n",
    "mongo.insert_record({\"Name\":\"Sudhanshu\", \"Position\":\"Senior Data Scientist\", \"Salary\":\"200000\"}, collection_name=collection_name)"
   ]
  },
  {
   "cell_type": "code",
   "execution_count": 60,
   "metadata": {},
   "outputs": [],
   "source": [
    "mongo.insert_record(\n",
    "    [\n",
    "    {\"Name\":\"Singhada\", \"Position\":\"AI Data Scientist\", \"Salary\":\"12000\"},\n",
    "    {\"Name\":\"Safeda\", \"Position\":\"ML Scientist\", \"Salary\":\"23000\"},\n",
    "    {\"Name\":\"Dammu\", \"Position\":\"Data Engineer\", \"Salary\":\"67000\"},\n",
    "    {\"Name\":\"Cheema\", \"Position\":\"DevOps Engineer\", \"Salary\":\"39000\"}\n",
    "    ], \n",
    "    collection_name=collection_name)"
   ]
  },
  {
   "cell_type": "code",
   "execution_count": 62,
   "metadata": {},
   "outputs": [],
   "source": [
    "\n"
   ]
  },
  {
   "cell_type": "code",
   "execution_count": null,
   "metadata": {},
   "outputs": [],
   "source": []
  },
  {
   "cell_type": "code",
   "execution_count": null,
   "metadata": {},
   "outputs": [],
   "source": []
  },
  {
   "cell_type": "code",
   "execution_count": null,
   "metadata": {},
   "outputs": [],
   "source": []
  },
  {
   "cell_type": "code",
   "execution_count": null,
   "metadata": {},
   "outputs": [],
   "source": []
  },
  {
   "cell_type": "code",
   "execution_count": null,
   "metadata": {},
   "outputs": [],
   "source": []
  },
  {
   "cell_type": "code",
   "execution_count": null,
   "metadata": {},
   "outputs": [],
   "source": []
  }
 ],
 "metadata": {
  "kernelspec": {
   "display_name": "Python 3",
   "language": "python",
   "name": "python3"
  },
  "language_info": {
   "codemirror_mode": {
    "name": "ipython",
    "version": 3
   },
   "file_extension": ".py",
   "mimetype": "text/x-python",
   "name": "python",
   "nbconvert_exporter": "python",
   "pygments_lexer": "ipython3",
   "version": "3.9.13"
  }
 },
 "nbformat": 4,
 "nbformat_minor": 2
}
